{
 "cells": [
  {
   "cell_type": "code",
   "execution_count": null,
   "id": "02f5888e-e656-4f9d-a3d6-b4a7e2448be6",
   "metadata": {},
   "outputs": [],
   "source": [
    "def merge_sorted_arrays(arr1, arr2):\n",
    "    m, n = len(arr1), len(arr2)\n",
    "    \n",
    "    i = m - 1  \n",
    "    j = 0      \n",
    "    while i >= 0 and j < n:\n",
    "        if arr1[i] > arr2[j]:\n",
    "            arr1[i], arr2[j] = arr2[j], arr1[i]\n",
    "            i -= 1\n",
    "            j += 1\n",
    "        else:\n",
    "            break\n",
    "    \n",
    "    \n",
    "    arr1.sort()\n",
    "    arr2.sort()\n",
    "\n",
    "\n",
    "if __name__ == \"__main__\":\n",
    "    # Test Case 1\n",
    "    arr1 = [1, 3, 5]\n",
    "    arr2 = [2, 4, 6]\n",
    "    merge_sorted_arrays(arr1, arr2)\n",
    "    print(\"Test Case 1:\", arr1, arr2)  \n",
    "    \n",
    "    # Test Case 2\n",
    "    arr1 = [10, 12, 14]\n",
    "    arr2 = [1, 3, 5]\n",
    "    merge_sorted_arrays(arr1, arr2)\n",
    "    print(\"Test Case 2:\", arr1, arr2)  \n",
    "    \n",
    "    # Test Case 3\n",
    "    arr1 = [2, 3, 8]\n",
    "    arr2 = [4, 6, 10]\n",
    "    merge_sorted_arrays(arr1, arr2)\n",
    "    print(\"Test Case 3:\", arr1, arr2)  \n",
    "    \n",
    "    # Test Case 4\n",
    "    arr1 = [1]\n",
    "    arr2 = [2]\n",
    "    merge_sorted_arrays(arr1, arr2)\n",
    "    print(\"Test Case 4:\", arr1, arr2) "
   ]
  }
 ],
 "metadata": {
  "kernelspec": {
   "display_name": "Python [conda env:base] *",
   "language": "python",
   "name": "conda-base-py"
  },
  "language_info": {
   "codemirror_mode": {
    "name": "ipython",
    "version": 3
   },
   "file_extension": ".py",
   "mimetype": "text/x-python",
   "name": "python",
   "nbconvert_exporter": "python",
   "pygments_lexer": "ipython3",
   "version": "3.13.5"
  }
 },
 "nbformat": 4,
 "nbformat_minor": 5
}
