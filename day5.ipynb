{
 "cells": [
  {
   "cell_type": "code",
   "execution_count": 1,
   "id": "78287c0c-ebbd-4962-b835-9ddab000cf5b",
   "metadata": {},
   "outputs": [
    {
     "name": "stdout",
     "output_type": "stream",
     "text": [
      "Input: [16, 17, 4, 3, 5, 2]\n",
      "Output: [17, 5, 2]\n",
      "Input: [1, 2, 3, 4, 0]\n",
      "Output: [4, 0]\n",
      "Input: [7, 10, 4, 10, 6, 5, 2]\n",
      "Output: [10, 6, 5, 2]\n",
      "Input: [5]\n",
      "Output: [5]\n",
      "Input: [100, 50, 20, 10]\n",
      "Output: [100, 50, 20, 10]\n"
     ]
    }
   ],
   "source": [
    "def find_leaders(arr):\n",
    "    n = len(arr)\n",
    "    leaders = []\n",
    "    max_so_far = float('-inf')  \n",
    "    \n",
    "   \n",
    "    for i in range(n-1, -1, -1):\n",
    "        if arr[i] > max_so_far:\n",
    "            leaders.append(arr[i]) \n",
    "            max_so_far = arr[i]    \n",
    "    \n",
    "    \n",
    "    return leaders[::-1]\n",
    "\n",
    "\n",
    "test_cases = [\n",
    "    [16, 17, 4, 3, 5, 2],\n",
    "    [1, 2, 3, 4, 0],\n",
    "    [7, 10, 4, 10, 6, 5, 2],\n",
    "    [5],\n",
    "    [100, 50, 20, 10]\n",
    "]\n",
    "\n",
    "for arr in test_cases:\n",
    "    print(f\"Input: {arr}\")\n",
    "    print(f\"Output: {find_leaders(arr)}\")"
   ]
  },
  {
   "cell_type": "code",
   "execution_count": null,
   "id": "62931ac3-3608-4993-8df7-8086d1565d0d",
   "metadata": {},
   "outputs": [],
   "source": []
  }
 ],
 "metadata": {
  "kernelspec": {
   "display_name": "Python [conda env:base] *",
   "language": "python",
   "name": "conda-base-py"
  },
  "language_info": {
   "codemirror_mode": {
    "name": "ipython",
    "version": 3
   },
   "file_extension": ".py",
   "mimetype": "text/x-python",
   "name": "python",
   "nbconvert_exporter": "python",
   "pygments_lexer": "ipython3",
   "version": "3.13.5"
  }
 },
 "nbformat": 4,
 "nbformat_minor": 5
}
