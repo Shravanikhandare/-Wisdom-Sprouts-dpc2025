{
 "cells": [
  {
   "cell_type": "code",
   "execution_count": 3,
   "id": "81b98e18-10f4-4b5c-8e5f-1be40330cf33",
   "metadata": {},
   "outputs": [
    {
     "name": "stdout",
     "output_type": "stream",
     "text": [
      "Input: [1, 2, 4, 5]\n",
      "Missing number: 3\n",
      "\n",
      "Input: [2, 3, 4, 5]\n",
      "Missing number: 1\n",
      "\n",
      "Input: [1, 2, 3, 4]\n",
      "Missing number: 5\n",
      "\n",
      "Input: [1]\n",
      "Missing number: 2\n",
      "\n",
      "Input: [1, 2, 3, 4, 5]...\n",
      "Missing number: 1000000\n",
      "\n"
     ]
    }
   ],
   "source": [
    "def findMissingNumber(arr):\n",
    "    n = len(arr) + 1  \n",
    "    expected_sum = (n * (n + 1)) // 2 \n",
    "    actual_sum = sum(arr) \n",
    "    return expected_sum - actual_sum\n",
    "\n",
    "\n",
    "test_cases = [\n",
    "    [1, 2, 4, 5],           \n",
    "    [2, 3, 4, 5],           \n",
    "    [1, 2, 3, 4],           \n",
    "    [1],                     \n",
    "    list(range(1, 1000000))  \n",
    "]\n",
    "\n",
    "for arr in test_cases:\n",
    "    print(f\"Input: {arr[:5]}{'...' if len(arr) > 5 else ''}\")\n",
    "    print(f\"Missing number: {findMissingNumber(arr)}\\n\")"
   ]
  },
  {
   "cell_type": "code",
   "execution_count": null,
   "id": "2b2b521c-841b-4cd7-82fd-fc1503e304d5",
   "metadata": {},
   "outputs": [],
   "source": []
  }
 ],
 "metadata": {
  "kernelspec": {
   "display_name": "Python [conda env:base] *",
   "language": "python",
   "name": "conda-base-py"
  },
  "language_info": {
   "codemirror_mode": {
    "name": "ipython",
    "version": 3
   },
   "file_extension": ".py",
   "mimetype": "text/x-python",
   "name": "python",
   "nbconvert_exporter": "python",
   "pygments_lexer": "ipython3",
   "version": "3.13.5"
  }
 },
 "nbformat": 4,
 "nbformat_minor": 5
}
