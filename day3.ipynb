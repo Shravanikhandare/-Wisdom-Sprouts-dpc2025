{
 "cells": [
  {
   "cell_type": "code",
   "execution_count": 1,
   "id": "282f7044-4fc7-4c4f-9c9a-41e6173bb48f",
   "metadata": {},
   "outputs": [
    {
     "name": "stdout",
     "output_type": "stream",
     "text": [
      "Test Case 1\n",
      "Input: [1, 3, 4, 2, 2]\n",
      "Duplicate number: 2\n",
      "\n",
      "Test Case 2\n",
      "Input: [3, 1, 3, 4, 2]\n",
      "Duplicate number: 3\n",
      "\n",
      "Test Case 3\n",
      "Input: [1, 1]\n",
      "Duplicate number: 1\n",
      "\n",
      "Test Case 4\n",
      "Input: [1, 4, 4, 2, 3]\n",
      "Duplicate number: 4\n",
      "\n",
      "Test Case 5\n",
      "Input: [1, 2, 3, 50000, 50000]...\n",
      "Duplicate number: 50000\n",
      "\n"
     ]
    }
   ],
   "source": [
    "\n",
    "def findDuplicate(arr):\n",
    "   \n",
    "    tortoise = arr[0]\n",
    "    hare = arr[0]\n",
    "    \n",
    "    while True:\n",
    "        tortoise = arr[tortoise]  \n",
    "        hare = arr[arr[hare]]     \n",
    "        if tortoise == hare:\n",
    "            break\n",
    "    \n",
    "    \n",
    "    tortoise = arr[0]\n",
    "    while tortoise != hare:\n",
    "        tortoise = arr[tortoise]  \n",
    "        hare = arr[hare]          \n",
    "        if tortoise == hare:\n",
    "            return tortoise\n",
    "    \n",
    "    return hare\n",
    "\n",
    "\n",
    "test_cases = [\n",
    "    [1, 3, 4, 2, 2],           \n",
    "    [3, 1, 3, 4, 2],           \n",
    "    [1, 1],                 \n",
    "    [1, 4, 4, 2, 3],          \n",
    "    [1, 2, 3] + [50000] * 2 + list(range(4, 100000))  \n",
    "]\n",
    "\n",
    "for i, arr in enumerate(test_cases, 1):\n",
    "    print(f\"Test Case {i}\")\n",
    "    print(f\"Input: {arr[:5]}{'...' if len(arr) > 5 else ''}\")\n",
    "    print(f\"Duplicate number: {findDuplicate(arr)}\\n\")"
   ]
  },
  {
   "cell_type": "code",
   "execution_count": null,
   "id": "73b03660-794d-441a-8d54-cb6d90b02ec4",
   "metadata": {},
   "outputs": [],
   "source": []
  }
 ],
 "metadata": {
  "kernelspec": {
   "display_name": "Python [conda env:base] *",
   "language": "python",
   "name": "conda-base-py"
  },
  "language_info": {
   "codemirror_mode": {
    "name": "ipython",
    "version": 3
   },
   "file_extension": ".py",
   "mimetype": "text/x-python",
   "name": "python",
   "nbconvert_exporter": "python",
   "pygments_lexer": "ipython3",
   "version": "3.13.5"
  }
 },
 "nbformat": 4,
 "nbformat_minor": 5
}
