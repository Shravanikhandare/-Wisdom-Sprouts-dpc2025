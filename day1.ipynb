{
 "cells": [
  {
   "cell_type": "code",
   "execution_count": 1,
   "id": "3e527290-f204-4109-a1ed-741ec0f9ace5",
   "metadata": {},
   "outputs": [
    {
     "name": "stdout",
     "output_type": "stream",
     "text": [
      "Input: [0, 1, 2, 1, 0, 2, 1, 0]\n",
      "Output: [0, 0, 0, 1, 1, 1, 2, 2] \n",
      "\n",
      "Input: [2, 2, 2, 2]\n",
      "Output: [2, 2, 2, 2] \n",
      "\n",
      "Input: [0, 0, 0, 0]\n",
      "Output: [0, 0, 0, 0] \n",
      "\n",
      "Input: [1, 1, 1, 1]\n",
      "Output: [1, 1, 1, 1] \n",
      "\n",
      "Input: [2, 0, 1]\n",
      "Output: [0, 1, 2] \n",
      "\n",
      "Input: []\n",
      "Output: [] \n",
      "\n"
     ]
    }
   ],
   "source": [
    "def sort012(arr):\n",
    "    low, mid, high = 0, 0, len(arr) - 1\n",
    "\n",
    "    while mid <= high:\n",
    "        if arr[mid] == 0:\n",
    "            arr[low], arr[mid] = arr[mid], arr[low]\n",
    "            low += 1\n",
    "            mid += 1\n",
    "        elif arr[mid] == 1:\n",
    "            mid += 1\n",
    "        else:\n",
    "            arr[mid], arr[high] = arr[high], arr[mid]\n",
    "            high -= 1\n",
    "    return arr\n",
    "    \n",
    "test_cases = [\n",
    "    [0, 1, 2, 1, 0, 2, 1, 0],\n",
    "    [2, 2, 2, 2],\n",
    "    [0, 0, 0, 0],\n",
    "    [1, 1, 1, 1],\n",
    "    [2, 0, 1],\n",
    "    []\n",
    "]\n",
    "\n",
    "for case in test_cases:\n",
    "    print(\"Input:\", case)\n",
    "    print(\"Output:\", sort012(case), \"\\n\")\n"
   ]
  },
  {
   "cell_type": "code",
   "execution_count": null,
   "id": "d192e756-7d29-4133-975e-444f03334e42",
   "metadata": {},
   "outputs": [],
   "source": []
  }
 ],
 "metadata": {
  "kernelspec": {
   "display_name": "Python [conda env:base] *",
   "language": "python",
   "name": "conda-base-py"
  },
  "language_info": {
   "codemirror_mode": {
    "name": "ipython",
    "version": 3
   },
   "file_extension": ".py",
   "mimetype": "text/x-python",
   "name": "python",
   "nbconvert_exporter": "python",
   "pygments_lexer": "ipython3",
   "version": "3.13.5"
  }
 },
 "nbformat": 4,
 "nbformat_minor": 5
}
